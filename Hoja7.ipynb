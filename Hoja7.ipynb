{
 "cells": [
  {
   "cell_type": "code",
   "execution_count": 1,
   "metadata": {},
   "outputs": [
    {
     "name": "stdout",
     "output_type": "stream",
     "text": [
      "Requirement already satisfied: plotly in /Library/Frameworks/Python.framework/Versions/3.7/lib/python3.7/site-packages (4.14.3)\n",
      "Requirement already satisfied: retrying>=1.3.3 in /Library/Frameworks/Python.framework/Versions/3.7/lib/python3.7/site-packages (from plotly) (1.3.3)\n",
      "Requirement already satisfied: six in /Library/Frameworks/Python.framework/Versions/3.7/lib/python3.7/site-packages (from plotly) (1.11.0)\n",
      "Requirement already satisfied: numpy in /Library/Frameworks/Python.framework/Versions/3.7/lib/python3.7/site-packages (1.19.5)\n",
      "Requirement already satisfied: matplotlib in /Library/Frameworks/Python.framework/Versions/3.7/lib/python3.7/site-packages (3.4.1)\n",
      "Requirement already satisfied: python-dateutil>=2.7 in /Library/Frameworks/Python.framework/Versions/3.7/lib/python3.7/site-packages (from matplotlib) (2.7.3)\n",
      "Requirement already satisfied: pyparsing>=2.2.1 in /Library/Frameworks/Python.framework/Versions/3.7/lib/python3.7/site-packages (from matplotlib) (2.2.2)\n",
      "Requirement already satisfied: kiwisolver>=1.0.1 in /Library/Frameworks/Python.framework/Versions/3.7/lib/python3.7/site-packages (from matplotlib) (1.0.1)\n",
      "Requirement already satisfied: cycler>=0.10 in /Library/Frameworks/Python.framework/Versions/3.7/lib/python3.7/site-packages (from matplotlib) (0.10.0)\n",
      "Requirement already satisfied: numpy>=1.16 in /Library/Frameworks/Python.framework/Versions/3.7/lib/python3.7/site-packages (from matplotlib) (1.19.5)\n",
      "Requirement already satisfied: pillow>=6.2.0 in /Library/Frameworks/Python.framework/Versions/3.7/lib/python3.7/site-packages (from matplotlib) (8.2.0)\n",
      "Requirement already satisfied: six in /Library/Frameworks/Python.framework/Versions/3.7/lib/python3.7/site-packages (from cycler>=0.10->matplotlib) (1.11.0)\n",
      "Requirement already satisfied: setuptools in /Library/Frameworks/Python.framework/Versions/3.7/lib/python3.7/site-packages (from kiwisolver>=1.0.1->matplotlib) (39.0.1)\n",
      "Requirement already satisfied: statsmodels in /Library/Frameworks/Python.framework/Versions/3.7/lib/python3.7/site-packages (0.12.2)\n",
      "Requirement already satisfied: scipy>=1.1 in /Library/Frameworks/Python.framework/Versions/3.7/lib/python3.7/site-packages (from statsmodels) (1.6.2)\n",
      "Requirement already satisfied: pandas>=0.21 in /Library/Frameworks/Python.framework/Versions/3.7/lib/python3.7/site-packages (from statsmodels) (1.1.5)\n",
      "Requirement already satisfied: numpy>=1.15 in /Library/Frameworks/Python.framework/Versions/3.7/lib/python3.7/site-packages (from statsmodels) (1.19.5)\n",
      "Requirement already satisfied: patsy>=0.5 in /Library/Frameworks/Python.framework/Versions/3.7/lib/python3.7/site-packages (from statsmodels) (0.5.1)\n",
      "Requirement already satisfied: pytz>=2017.2 in /Library/Frameworks/Python.framework/Versions/3.7/lib/python3.7/site-packages (from pandas>=0.21->statsmodels) (2019.3)\n",
      "Requirement already satisfied: python-dateutil>=2.7.3 in /Library/Frameworks/Python.framework/Versions/3.7/lib/python3.7/site-packages (from pandas>=0.21->statsmodels) (2.7.3)\n",
      "Requirement already satisfied: six in /Library/Frameworks/Python.framework/Versions/3.7/lib/python3.7/site-packages (from patsy>=0.5->statsmodels) (1.11.0)\n",
      "Requirement already satisfied: pandas in /Library/Frameworks/Python.framework/Versions/3.7/lib/python3.7/site-packages (1.1.5)\n",
      "Requirement already satisfied: numpy>=1.15.4 in /Library/Frameworks/Python.framework/Versions/3.7/lib/python3.7/site-packages (from pandas) (1.19.5)\n",
      "Requirement already satisfied: pytz>=2017.2 in /Library/Frameworks/Python.framework/Versions/3.7/lib/python3.7/site-packages (from pandas) (2019.3)\n",
      "Requirement already satisfied: python-dateutil>=2.7.3 in /Library/Frameworks/Python.framework/Versions/3.7/lib/python3.7/site-packages (from pandas) (2.7.3)\n",
      "Requirement already satisfied: six>=1.5 in /Library/Frameworks/Python.framework/Versions/3.7/lib/python3.7/site-packages (from python-dateutil>=2.7.3->pandas) (1.11.0)\n",
      "Requirement already satisfied: sklearn in /Library/Frameworks/Python.framework/Versions/3.7/lib/python3.7/site-packages (0.0)\n",
      "Requirement already satisfied: scikit-learn in /Library/Frameworks/Python.framework/Versions/3.7/lib/python3.7/site-packages (from sklearn) (0.24.1)\n",
      "Requirement already satisfied: scipy>=0.19.1 in /Library/Frameworks/Python.framework/Versions/3.7/lib/python3.7/site-packages (from scikit-learn->sklearn) (1.6.2)\n",
      "Requirement already satisfied: numpy>=1.13.3 in /Library/Frameworks/Python.framework/Versions/3.7/lib/python3.7/site-packages (from scikit-learn->sklearn) (1.19.5)\n",
      "Requirement already satisfied: threadpoolctl>=2.0.0 in /Library/Frameworks/Python.framework/Versions/3.7/lib/python3.7/site-packages (from scikit-learn->sklearn) (2.1.0)\n",
      "Requirement already satisfied: joblib>=0.11 in /Library/Frameworks/Python.framework/Versions/3.7/lib/python3.7/site-packages (from scikit-learn->sklearn) (1.0.1)\n",
      "Requirement already satisfied: seaborn in /Library/Frameworks/Python.framework/Versions/3.7/lib/python3.7/site-packages (0.11.1)\n",
      "Requirement already satisfied: scipy>=1.0 in /Library/Frameworks/Python.framework/Versions/3.7/lib/python3.7/site-packages (from seaborn) (1.6.2)\n",
      "Requirement already satisfied: matplotlib>=2.2 in /Library/Frameworks/Python.framework/Versions/3.7/lib/python3.7/site-packages (from seaborn) (3.4.1)\n",
      "Requirement already satisfied: pandas>=0.23 in /Library/Frameworks/Python.framework/Versions/3.7/lib/python3.7/site-packages (from seaborn) (1.1.5)\n",
      "Requirement already satisfied: numpy>=1.15 in /Library/Frameworks/Python.framework/Versions/3.7/lib/python3.7/site-packages (from seaborn) (1.19.5)\n",
      "Requirement already satisfied: python-dateutil>=2.7 in /Library/Frameworks/Python.framework/Versions/3.7/lib/python3.7/site-packages (from matplotlib>=2.2->seaborn) (2.7.3)\n",
      "Requirement already satisfied: pyparsing>=2.2.1 in /Library/Frameworks/Python.framework/Versions/3.7/lib/python3.7/site-packages (from matplotlib>=2.2->seaborn) (2.2.2)\n",
      "Requirement already satisfied: cycler>=0.10 in /Library/Frameworks/Python.framework/Versions/3.7/lib/python3.7/site-packages (from matplotlib>=2.2->seaborn) (0.10.0)\n",
      "Requirement already satisfied: kiwisolver>=1.0.1 in /Library/Frameworks/Python.framework/Versions/3.7/lib/python3.7/site-packages (from matplotlib>=2.2->seaborn) (1.0.1)\n",
      "Requirement already satisfied: pillow>=6.2.0 in /Library/Frameworks/Python.framework/Versions/3.7/lib/python3.7/site-packages (from matplotlib>=2.2->seaborn) (8.2.0)\n",
      "Requirement already satisfied: six in /Library/Frameworks/Python.framework/Versions/3.7/lib/python3.7/site-packages (from cycler>=0.10->matplotlib>=2.2->seaborn) (1.11.0)\n",
      "Requirement already satisfied: setuptools in /Library/Frameworks/Python.framework/Versions/3.7/lib/python3.7/site-packages (from kiwisolver>=1.0.1->matplotlib>=2.2->seaborn) (39.0.1)\n",
      "Requirement already satisfied: pytz>=2017.2 in /Library/Frameworks/Python.framework/Versions/3.7/lib/python3.7/site-packages (from pandas>=0.23->seaborn) (2019.3)\n",
      "Requirement already satisfied: yellowbrick in /Library/Frameworks/Python.framework/Versions/3.7/lib/python3.7/site-packages (1.3.post1)\n",
      "Requirement already satisfied: numpy<1.20,>=1.16.0 in /Library/Frameworks/Python.framework/Versions/3.7/lib/python3.7/site-packages (from yellowbrick) (1.19.5)\n",
      "Requirement already satisfied: cycler>=0.10.0 in /Library/Frameworks/Python.framework/Versions/3.7/lib/python3.7/site-packages (from yellowbrick) (0.10.0)\n",
      "Requirement already satisfied: matplotlib!=3.0.0,>=2.0.2 in /Library/Frameworks/Python.framework/Versions/3.7/lib/python3.7/site-packages (from yellowbrick) (3.4.1)\n",
      "Requirement already satisfied: scikit-learn>=0.20 in /Library/Frameworks/Python.framework/Versions/3.7/lib/python3.7/site-packages (from yellowbrick) (0.24.1)\n",
      "Requirement already satisfied: scipy>=1.0.0 in /Library/Frameworks/Python.framework/Versions/3.7/lib/python3.7/site-packages (from yellowbrick) (1.6.2)\n",
      "Requirement already satisfied: six in /Library/Frameworks/Python.framework/Versions/3.7/lib/python3.7/site-packages (from cycler>=0.10.0->yellowbrick) (1.11.0)\n",
      "Requirement already satisfied: pillow>=6.2.0 in /Library/Frameworks/Python.framework/Versions/3.7/lib/python3.7/site-packages (from matplotlib!=3.0.0,>=2.0.2->yellowbrick) (8.2.0)\n",
      "Requirement already satisfied: kiwisolver>=1.0.1 in /Library/Frameworks/Python.framework/Versions/3.7/lib/python3.7/site-packages (from matplotlib!=3.0.0,>=2.0.2->yellowbrick) (1.0.1)\n",
      "Requirement already satisfied: pyparsing>=2.2.1 in /Library/Frameworks/Python.framework/Versions/3.7/lib/python3.7/site-packages (from matplotlib!=3.0.0,>=2.0.2->yellowbrick) (2.2.2)\n",
      "Requirement already satisfied: python-dateutil>=2.7 in /Library/Frameworks/Python.framework/Versions/3.7/lib/python3.7/site-packages (from matplotlib!=3.0.0,>=2.0.2->yellowbrick) (2.7.3)\n",
      "Requirement already satisfied: setuptools in /Library/Frameworks/Python.framework/Versions/3.7/lib/python3.7/site-packages (from kiwisolver>=1.0.1->matplotlib!=3.0.0,>=2.0.2->yellowbrick) (39.0.1)\n"
     ]
    },
    {
     "name": "stdout",
     "output_type": "stream",
     "text": [
      "Requirement already satisfied: threadpoolctl>=2.0.0 in /Library/Frameworks/Python.framework/Versions/3.7/lib/python3.7/site-packages (from scikit-learn>=0.20->yellowbrick) (2.1.0)\n",
      "Requirement already satisfied: joblib>=0.11 in /Library/Frameworks/Python.framework/Versions/3.7/lib/python3.7/site-packages (from scikit-learn>=0.20->yellowbrick) (1.0.1)\n",
      "Requirement already satisfied: scipy in /Library/Frameworks/Python.framework/Versions/3.7/lib/python3.7/site-packages (1.6.2)\n",
      "Requirement already satisfied: numpy<1.23.0,>=1.16.5 in /Library/Frameworks/Python.framework/Versions/3.7/lib/python3.7/site-packages (from scipy) (1.19.5)\n"
     ]
    }
   ],
   "source": [
    "!pip install plotly\n",
    "!pip install numpy\n",
    "!pip install matplotlib\n",
    "!pip install statsmodels\n",
    "!pip install pandas\n",
    "!pip install sklearn\n",
    "!pip install seaborn\n",
    "!pip install yellowbrick\n",
    "!pip install scipy"
   ]
  },
  {
   "cell_type": "code",
   "execution_count": 49,
   "metadata": {},
   "outputs": [],
   "source": [
    "%matplotlib inline\n",
    "from sklearn.metrics import plot_confusion_matrix\n",
    "import matplotlib.pyplot as plt\n",
    "import numpy as np\n",
    "import csv\n",
    "import statsmodels.api as sm\n",
    "import statsmodels.stats.diagnostic as smd\n",
    "import pandas as pd\n",
    "from sklearn import svm\n",
    "from sklearn import datasets\n",
    "from sklearn.model_selection import train_test_split\n",
    "from sklearn.metrics import mean_squared_error,r2_score\n",
    "from sklearn.linear_model import Ridge\n",
    "import seaborn as sns\n",
    "import statsmodels.api as sm\n",
    "from statsmodels.graphics.gofplots import qqplot\n",
    "from yellowbrick.regressor import ResidualsPlot\n",
    "import scipy.stats as stats\n",
    "import statsmodels.stats.diagnostic as diag\n",
    "from scipy.stats import normaltest"
   ]
  },
  {
   "cell_type": "markdown",
   "metadata": {},
   "source": [
    "# Transformaciones\n",
    "En este dataset nos interesa solo las variables cuantitativas por eso se escogieron las columnas que se deseaban\n",
    "y Sale price que aunque vaya a ser eliminado nos servira para la variable categorica tambien removemos cualquier row con NA.\n",
    "Procederemos tambien a convertir nuestra variable categorica una vez seteada en un factor"
   ]
  },
  {
   "cell_type": "code",
   "execution_count": 21,
   "metadata": {},
   "outputs": [
    {
     "data": {
      "text/plain": [
       "Index(['SalePrice', 'LotFrontage', 'GarageArea', 'GrLivArea', 'LotArea',\n",
       "       'YearRemodAdd', 'OverallQual'],\n",
       "      dtype='object')"
      ]
     },
     "execution_count": 21,
     "metadata": {},
     "output_type": "execute_result"
    }
   ],
   "source": [
    "#We get only relevant columns\n",
    "trainSetGiven = pd.read_csv(\"data/train.csv\")[[\"SalePrice\",\"LotFrontage\",\"GarageArea\",\"GrLivArea\",\"LotArea\",\"YearRemodAdd\", \"OverallQual\"]]\n",
    "trainSetGiven.columns"
   ]
  },
  {
   "cell_type": "code",
   "execution_count": 22,
   "metadata": {},
   "outputs": [
    {
     "data": {
      "text/html": [
       "<div>\n",
       "<style scoped>\n",
       "    .dataframe tbody tr th:only-of-type {\n",
       "        vertical-align: middle;\n",
       "    }\n",
       "\n",
       "    .dataframe tbody tr th {\n",
       "        vertical-align: top;\n",
       "    }\n",
       "\n",
       "    .dataframe thead th {\n",
       "        text-align: right;\n",
       "    }\n",
       "</style>\n",
       "<table border=\"1\" class=\"dataframe\">\n",
       "  <thead>\n",
       "    <tr style=\"text-align: right;\">\n",
       "      <th></th>\n",
       "      <th>SalePrice</th>\n",
       "      <th>LotFrontage</th>\n",
       "      <th>GarageArea</th>\n",
       "      <th>GrLivArea</th>\n",
       "      <th>LotArea</th>\n",
       "      <th>YearRemodAdd</th>\n",
       "      <th>OverallQual</th>\n",
       "    </tr>\n",
       "  </thead>\n",
       "  <tbody>\n",
       "    <tr>\n",
       "      <th>0</th>\n",
       "      <td>208500</td>\n",
       "      <td>65.0</td>\n",
       "      <td>548</td>\n",
       "      <td>1710</td>\n",
       "      <td>8450</td>\n",
       "      <td>2003</td>\n",
       "      <td>7</td>\n",
       "    </tr>\n",
       "    <tr>\n",
       "      <th>1</th>\n",
       "      <td>181500</td>\n",
       "      <td>80.0</td>\n",
       "      <td>460</td>\n",
       "      <td>1262</td>\n",
       "      <td>9600</td>\n",
       "      <td>1976</td>\n",
       "      <td>6</td>\n",
       "    </tr>\n",
       "    <tr>\n",
       "      <th>2</th>\n",
       "      <td>223500</td>\n",
       "      <td>68.0</td>\n",
       "      <td>608</td>\n",
       "      <td>1786</td>\n",
       "      <td>11250</td>\n",
       "      <td>2002</td>\n",
       "      <td>7</td>\n",
       "    </tr>\n",
       "    <tr>\n",
       "      <th>3</th>\n",
       "      <td>140000</td>\n",
       "      <td>60.0</td>\n",
       "      <td>642</td>\n",
       "      <td>1717</td>\n",
       "      <td>9550</td>\n",
       "      <td>1970</td>\n",
       "      <td>7</td>\n",
       "    </tr>\n",
       "    <tr>\n",
       "      <th>4</th>\n",
       "      <td>250000</td>\n",
       "      <td>84.0</td>\n",
       "      <td>836</td>\n",
       "      <td>2198</td>\n",
       "      <td>14260</td>\n",
       "      <td>2000</td>\n",
       "      <td>8</td>\n",
       "    </tr>\n",
       "    <tr>\n",
       "      <th>...</th>\n",
       "      <td>...</td>\n",
       "      <td>...</td>\n",
       "      <td>...</td>\n",
       "      <td>...</td>\n",
       "      <td>...</td>\n",
       "      <td>...</td>\n",
       "      <td>...</td>\n",
       "    </tr>\n",
       "    <tr>\n",
       "      <th>1455</th>\n",
       "      <td>175000</td>\n",
       "      <td>62.0</td>\n",
       "      <td>460</td>\n",
       "      <td>1647</td>\n",
       "      <td>7917</td>\n",
       "      <td>2000</td>\n",
       "      <td>6</td>\n",
       "    </tr>\n",
       "    <tr>\n",
       "      <th>1456</th>\n",
       "      <td>210000</td>\n",
       "      <td>85.0</td>\n",
       "      <td>500</td>\n",
       "      <td>2073</td>\n",
       "      <td>13175</td>\n",
       "      <td>1988</td>\n",
       "      <td>6</td>\n",
       "    </tr>\n",
       "    <tr>\n",
       "      <th>1457</th>\n",
       "      <td>266500</td>\n",
       "      <td>66.0</td>\n",
       "      <td>252</td>\n",
       "      <td>2340</td>\n",
       "      <td>9042</td>\n",
       "      <td>2006</td>\n",
       "      <td>7</td>\n",
       "    </tr>\n",
       "    <tr>\n",
       "      <th>1458</th>\n",
       "      <td>142125</td>\n",
       "      <td>68.0</td>\n",
       "      <td>240</td>\n",
       "      <td>1078</td>\n",
       "      <td>9717</td>\n",
       "      <td>1996</td>\n",
       "      <td>5</td>\n",
       "    </tr>\n",
       "    <tr>\n",
       "      <th>1459</th>\n",
       "      <td>147500</td>\n",
       "      <td>75.0</td>\n",
       "      <td>276</td>\n",
       "      <td>1256</td>\n",
       "      <td>9937</td>\n",
       "      <td>1965</td>\n",
       "      <td>5</td>\n",
       "    </tr>\n",
       "  </tbody>\n",
       "</table>\n",
       "<p>1201 rows × 7 columns</p>\n",
       "</div>"
      ],
      "text/plain": [
       "      SalePrice  LotFrontage  GarageArea  GrLivArea  LotArea  YearRemodAdd  \\\n",
       "0        208500         65.0         548       1710     8450          2003   \n",
       "1        181500         80.0         460       1262     9600          1976   \n",
       "2        223500         68.0         608       1786    11250          2002   \n",
       "3        140000         60.0         642       1717     9550          1970   \n",
       "4        250000         84.0         836       2198    14260          2000   \n",
       "...         ...          ...         ...        ...      ...           ...   \n",
       "1455     175000         62.0         460       1647     7917          2000   \n",
       "1456     210000         85.0         500       2073    13175          1988   \n",
       "1457     266500         66.0         252       2340     9042          2006   \n",
       "1458     142125         68.0         240       1078     9717          1996   \n",
       "1459     147500         75.0         276       1256     9937          1965   \n",
       "\n",
       "      OverallQual  \n",
       "0               7  \n",
       "1               6  \n",
       "2               7  \n",
       "3               7  \n",
       "4               8  \n",
       "...           ...  \n",
       "1455            6  \n",
       "1456            6  \n",
       "1457            7  \n",
       "1458            5  \n",
       "1459            5  \n",
       "\n",
       "[1201 rows x 7 columns]"
      ]
     },
     "execution_count": 22,
     "metadata": {},
     "output_type": "execute_result"
    }
   ],
   "source": [
    "#Get only numeric\n",
    "dataSetCompleteNumeric = trainSetGiven._get_numeric_data().dropna(how='any')\n",
    "lenP = len(dataSetCompleteNumeric['SalePrice'])\n",
    "\n",
    "dataSetCompleteNumeric"
   ]
  },
  {
   "cell_type": "markdown",
   "metadata": {},
   "source": [
    "# Pre procesamiento\n",
    "Decidimos separar las casas en subconjuntos para determinar su variable categórica que sera la que luego pasaremos a que nos funcione como un factor"
   ]
  },
  {
   "cell_type": "code",
   "execution_count": 72,
   "metadata": {},
   "outputs": [
    {
     "data": {
      "text/plain": [
       "3       medio\n",
       "5       medio\n",
       "8       medio\n",
       "9       medio\n",
       "10      medio\n",
       "        ...  \n",
       "1450    medio\n",
       "1452    medio\n",
       "1453    medio\n",
       "1458    medio\n",
       "1459    medio\n",
       "Name: category, Length: 494, dtype: object"
      ]
     },
     "execution_count": 72,
     "metadata": {},
     "output_type": "execute_result"
    }
   ],
   "source": [
    "# We sperate to get valid sets\n",
    "caros = dataSetCompleteNumeric[dataSetCompleteNumeric['SalePrice']>150000].copy()\n",
    "# caros['cat'] = 'Caro'\n",
    "caros['category'] = \"cara\"\n",
    "baratos = dataSetCompleteNumeric[dataSetCompleteNumeric['SalePrice']<80000].copy()\n",
    "baratos['category'] = \"barata\"\n",
    "medio = dataSetCompleteNumeric[dataSetCompleteNumeric['SalePrice'] > 80000].copy()\n",
    "medio = medio[medio['SalePrice'] < 150000]\n",
    "medio['category'] = \"medio\"\n",
    "medio[\"category\"]"
   ]
  },
  {
   "cell_type": "code",
   "execution_count": 87,
   "metadata": {},
   "outputs": [
    {
     "data": {
      "text/plain": [
       "array([1, 0, 2])"
      ]
     },
     "execution_count": 87,
     "metadata": {},
     "output_type": "execute_result"
    }
   ],
   "source": [
    "#Proporciones caros\n",
    "trainCaro = caros.sample(frac=0.7)\n",
    "normalizeC = caros.drop(trainCaro.index)\n",
    "\n",
    "#Proporciones baratos\n",
    "trainBarato = baratos.sample(frac=0.7)\n",
    "normalizeB = baratos.drop(trainBarato.index)\n",
    "\n",
    "#Proporciones medio\n",
    "trainMedio = medio.sample(frac=0.7)\n",
    "normalizeM = medio.drop(trainMedio.index)\n",
    "\n",
    "# Proporcion 30, 70\n",
    "normalized  = normalizeC.append(normalizeB).append(normalizeM)\n",
    "\n",
    "#all data\n",
    "datos = normalized\n",
    "datos['category'], _ = pd.factorize(datos['category'], sort=True)\n",
    "datos.pop(\"SalePrice\")\n",
    "y = datos.pop(\"category\")\n",
    "X = datos\n",
    "y.unique()"
   ]
  },
  {
   "cell_type": "markdown",
   "metadata": {},
   "source": [
    "Arriba lo que hicimos fue solo tomar el 30 de los datos de cada una de las diferentes categorias asi teniamos una muestra pareja para un mejor modelo."
   ]
  },
  {
   "cell_type": "code",
   "execution_count": 75,
   "metadata": {},
   "outputs": [],
   "source": [
    "#Plot config\n",
    "plt.rcParams['figure.figsize'] = (15, 9)\n",
    "plt.style.use('ggplot')\n"
   ]
  },
  {
   "cell_type": "markdown",
   "metadata": {},
   "source": [
    "# Simple SVM"
   ]
  },
  {
   "cell_type": "code",
   "execution_count": 76,
   "metadata": {},
   "outputs": [],
   "source": [
    "#Set seeder for random\n",
    "import random\n",
    "random.seed(123)"
   ]
  },
  {
   "cell_type": "code",
   "execution_count": 77,
   "metadata": {},
   "outputs": [],
   "source": [
    "X_train, X_test,y_train, y_test = train_test_split(X, y,test_size=0.3,train_size=0.7)"
   ]
  },
  {
   "cell_type": "markdown",
   "metadata": {},
   "source": [
    "# Entrenando el modelo"
   ]
  },
  {
   "cell_type": "code",
   "execution_count": 93,
   "metadata": {
    "scrolled": false
   },
   "outputs": [
    {
     "name": "stdout",
     "output_type": "stream",
     "text": [
      "Se tomo  25.58 segundos en entrenar con un kernel linear\n"
     ]
    }
   ],
   "source": [
    "from sklearn.metrics import confusion_matrix\n",
    "import time\n",
    "svclassifierLinear = svm.SVC(kernel='linear')\n",
    "timestamp1 = time.time()\n",
    "svclassifierLinear.fit(X_train, y_train)\n",
    "timestamp2 = time.time()\n",
    "print(\"Se tomo  %.2f segundos en entrenar con un kernel linear\" % (timestamp2 - timestamp1))"
   ]
  },
  {
   "cell_type": "markdown",
   "metadata": {},
   "source": [
    "## Realizando predicciones"
   ]
  },
  {
   "cell_type": "code",
   "execution_count": 94,
   "metadata": {},
   "outputs": [
    {
     "name": "stdout",
     "output_type": "stream",
     "text": [
      "Se tomo  0.00 segundos en predecir\n",
      "Matriz de confusión para svm con kernel linear\n",
      " [[ 3  0  1]\n",
      " [ 2 56  1]\n",
      " [ 1  4 40]]\n",
      "Accuracy:  0.9166666666666666\n"
     ]
    },
    {
     "data": {
      "text/plain": [
       "array([1, 1, 2, 1, 1, 1, 1, 2, 2, 1, 1, 0, 1, 1, 1, 1, 1, 2, 2, 2, 1, 2,\n",
       "       1, 2, 1, 2, 1, 1, 1, 2, 0, 1, 1, 2, 1, 1, 1, 1, 2, 2, 1, 1, 1, 1,\n",
       "       1, 1, 2, 2, 1, 2, 2, 1, 1, 1, 2, 1, 1, 2, 1, 1, 1, 2, 2, 1, 2, 1,\n",
       "       1, 2, 2, 1, 0, 2, 2, 1, 2, 2, 1, 2, 1, 1, 2, 1, 2, 2, 1, 2, 1, 0,\n",
       "       2, 0, 2, 2, 1, 1, 1, 1, 2, 1, 0, 1, 2, 2, 1, 1, 2, 2, 1, 2])"
      ]
     },
     "execution_count": 94,
     "metadata": {},
     "output_type": "execute_result"
    }
   ],
   "source": [
    "\n",
    "timestamp1 = time.time()\n",
    "y_pred = svclassifierLinear.predict(X_test)\n",
    "timestamp2 = time.time()\n",
    "print(\"Se tomo  %.2f segundos en predecir\" % (timestamp2 - timestamp1))\n",
    "cm = confusion_matrix(y_test,y_pred)\n",
    "from sklearn.metrics import accuracy_score ,precision_score,recall_score,f1_score\n",
    "accuracy=accuracy_score(y_test,y_pred)\n",
    "precision =precision_score(y_test, y_pred,average='micro')\n",
    "recall =  recall_score(y_test, y_pred,average='micro')\n",
    "f1 = f1_score(y_test,y_pred,average='micro')\n",
    "print('Matriz de confusión para svm con kernel linear\\n',cm)\n",
    "print('Accuracy: ',accuracy)\n",
    "y_pred"
   ]
  },
  {
   "cell_type": "markdown",
   "metadata": {},
   "source": [
    "# Resultados de SVM con un Kernel Linear\n",
    "El modelo fue bastante lento para aprender solo se tomo el 30% del data set ya que si se tomaba todo tardaba mucho\n",
    "Fue preciso tuvo un 91% de acierto"
   ]
  },
  {
   "cell_type": "code",
   "execution_count": 95,
   "metadata": {},
   "outputs": [
    {
     "data": {
      "image/png": "[encoded data removed]",
      "text/plain": [
       "<Figure size 1080x648 with 2 Axes>"
      ]
     },
     "metadata": {},
     "output_type": "display_data"
    },
    {
     "data": {
      "image/png": "[encoded data removed]",
      "text/plain": [
       "<Figure size 1080x648 with 2 Axes>"
      ]
     },
     "metadata": {},
     "output_type": "display_data"
    }
   ],
   "source": [
    "titles_options = [(\"Confusion matrix, without normalization\", None),\n",
    "                  (\"Normalized confusion matrix\", 'true')]\n",
    "for title, normalize in titles_options:\n",
    "    disp = plot_confusion_matrix(svclassifierLinear, X_test, y_test,\n",
    "                                 display_labels=[\"Caros\", \"Barata\", \"Medio\"],\n",
    "                                 cmap=plt.cm.Blues,\n",
    "                                 normalize=normalize)\n",
    "    disp.ax_.set_title(title)"
   ]
  },
  {
   "cell_type": "markdown",
   "metadata": {},
   "source": [
    "# Interpretacion de las matrices de confusion\n",
    "Utilizaremos la normalizada para ver nuestros resultados como podemos ver las casas caras fueron las que en porcentaje \n",
    "tuvieron menos exito confundiendose con las de medio precio lo cual es logico que si iban a  haber falsos positivos serian \n",
    "con ese tipo de casas.\n",
    "Respecto a las casas baratas vemos que fue casi perfecta su predicción fallo con un 1 porciento de las medias \n",
    "y con un 3 porciento de las caras lo cual es un poco raro pero el 96% de las casas fueron acertadas con exito. En este modelo tenemos un rango menor de casas y de precio tiene un limite corto de casas.\n",
    "Y respecto a las casas medias parece que tambien tuvo un buen % de acierto con 89% confunciendose mas que todo en un 9% aprox con las baratas"
   ]
  },
  {
   "cell_type": "markdown",
   "metadata": {},
   "source": [
    "# SVM polinomial\n"
   ]
  },
  {
   "cell_type": "markdown",
   "metadata": {},
   "source": [
    "## Entrenaremos el modelo"
   ]
  },
  {
   "cell_type": "code",
   "execution_count": 80,
   "metadata": {},
   "outputs": [
    {
     "name": "stdout",
     "output_type": "stream",
     "text": [
      "Se tomo  0.00 segundos en entrenar con un kernel polinomial\n"
     ]
    }
   ],
   "source": [
    "svclassifier = svm.SVC(kernel='poly', degree=75)\n",
    "timestamp1 = time.time()\n",
    "svclassifier.fit(X_train, y_train)\n",
    "timestamp2 = time.time()\n",
    "print(\"Se tomo  %.2f segundos en entrenar con un kernel polinomial\" % (timestamp2 - timestamp1))"
   ]
  },
  {
   "cell_type": "markdown",
   "metadata": {},
   "source": [
    "## Realizando predicciones"
   ]
  },
  {
   "cell_type": "code",
   "execution_count": 81,
   "metadata": {},
   "outputs": [
    {
     "name": "stdout",
     "output_type": "stream",
     "text": [
      "Se tomo  0.00 segundos en predecir\n"
     ]
    }
   ],
   "source": [
    "timestamp1 = time.time()\n",
    "y_pred = svclassifier.predict(X_test)\n",
    "timestamp2 = time.time()\n",
    "print(\"Se tomo  %.2f segundos en predecir\" % (timestamp2 - timestamp1))\n",
    "cm = confusion_matrix(y_test,y_pred)"
   ]
  },
  {
   "cell_type": "code",
   "execution_count": 82,
   "metadata": {},
   "outputs": [
    {
     "name": "stdout",
     "output_type": "stream",
     "text": [
      "Matriz de confusión para detectar casas con valor barato\n",
      " [[ 0  0  4]\n",
      " [ 0 41 18]\n",
      " [ 0 16 29]]\n",
      "Accuracy:  0.6481481481481481\n"
     ]
    },
    {
     "data": {
      "text/plain": [
       "439     2\n",
       "1303    1\n",
       "1412    2\n",
       "737     1\n",
       "315     1\n",
       "       ..\n",
       "585     1\n",
       "247     2\n",
       "1438    2\n",
       "433     1\n",
       "227     2\n",
       "Name: category, Length: 108, dtype: int64"
      ]
     },
     "execution_count": 82,
     "metadata": {},
     "output_type": "execute_result"
    }
   ],
   "source": [
    "accuracy=accuracy_score(y_test,y_pred)\n",
    "precision =precision_score(y_test, y_pred,average='micro')\n",
    "recall =  recall_score(y_test, y_pred,average='micro')\n",
    "f1 = f1_score(y_test,y_pred,average='micro')\n",
    "print('Matriz de confusión para detectar casas con valor barato\\n',cm)\n",
    "print('Accuracy: ',accuracy)\n",
    "y_test"
   ]
  },
  {
   "cell_type": "markdown",
   "metadata": {},
   "source": [
    "# Resultados de SVM con un Kernel polinomial\n",
    "Este fue mas rapido pero se tuvo una peor prediccion apenas del 64.81% porciento correctos"
   ]
  },
  {
   "cell_type": "code",
   "execution_count": 89,
   "metadata": {},
   "outputs": [
    {
     "data": {
      "image/png": "[encoded data removed]",
      "text/plain": [
       "<Figure size 1080x648 with 2 Axes>"
      ]
     },
     "metadata": {},
     "output_type": "display_data"
    },
    {
     "data": {
      "image/png": "[encoded data removed]",
      "text/plain": [
       "<Figure size 1080x648 with 2 Axes>"
      ]
     },
     "metadata": {},
     "output_type": "display_data"
    }
   ],
   "source": [
    "titles_options = [(\"Confusion matrix, without normalization\", None),\n",
    "                  (\"Normalized confusion matrix\", 'true')]\n",
    "for title, normalize in titles_options:\n",
    "    disp = plot_confusion_matrix(svclassifier, X_test, y_test,\n",
    "                                 display_labels=[\"Caros\", \"Barata\", \"Medio\"],\n",
    "                                 cmap=plt.cm.Blues,\n",
    "                                 normalize=normalize)\n",
    "    disp.ax_.set_title(title)"
   ]
  },
  {
   "cell_type": "markdown",
   "metadata": {},
   "source": [
    "# Interpretacion de las matrices de confusion\n",
    "Se dibujaron dos matrices una con porcentajes en cada uno de los casos y la otra con el numero exacto.\n",
    "Como podemos ver en los caros se predijeron de pesima manera solo fueron 4 y el 100% se pensaba que serian medias.\n",
    "Los baratas tuvieron un acierto del 69% y se confundieron con los medias los falsos positivos.\n",
    "En cuanto a los medias se tuvo resultados parecidos pero se confundieron con los barata tieniendo 64% de exito."
   ]
  },
  {
   "cell_type": "markdown",
   "metadata": {},
   "source": [
    "# Sigmoid Kernel"
   ]
  },
  {
   "cell_type": "markdown",
   "metadata": {},
   "source": [
    "## Entrenaremos el modelo"
   ]
  },
  {
   "cell_type": "code",
   "execution_count": 98,
   "metadata": {},
   "outputs": [
    {
     "name": "stdout",
     "output_type": "stream",
     "text": [
      "Se tomo  0.01 segundos en predecir\n"
     ]
    }
   ],
   "source": [
    "svclassifierSigmoid = svm.SVC(kernel='sigmoid')\n",
    "timestamp1 = time.time()\n",
    "svclassifierSigmoid.fit(X_train, y_train)\n",
    "timestamp2 = time.time()\n",
    "print(\"Se tomo  %.2f segundos en predecir\" % (timestamp2 - timestamp1))\n",
    "cm = confusion_matrix(y_test,y_pred)"
   ]
  },
  {
   "cell_type": "markdown",
   "metadata": {},
   "source": [
    "## Realizando predicciones\n"
   ]
  },
  {
   "cell_type": "code",
   "execution_count": 99,
   "metadata": {},
   "outputs": [
    {
     "name": "stdout",
     "output_type": "stream",
     "text": [
      "Se tomo  0.00 segundos en predecir\n"
     ]
    }
   ],
   "source": [
    "timestamp1 = time.time()\n",
    "y_pred = svclassifierSigmoid.predict(X_test)\n",
    "timestamp2 = time.time()\n",
    "print(\"Se tomo  %.2f segundos en predecir\" % (timestamp2 - timestamp1))\n",
    "cm = confusion_matrix(y_test,y_pred)"
   ]
  },
  {
   "cell_type": "code",
   "execution_count": 100,
   "metadata": {},
   "outputs": [
    {
     "name": "stdout",
     "output_type": "stream",
     "text": [
      "Matriz de confusión para detectar casas con valor barato\n",
      " [[ 0  3  1]\n",
      " [ 0 34 25]\n",
      " [ 1 31 13]]\n",
      "Accuracy:  0.4351851851851852\n"
     ]
    },
    {
     "data": {
      "text/plain": [
       "439     2\n",
       "1303    1\n",
       "1412    2\n",
       "737     1\n",
       "315     1\n",
       "       ..\n",
       "585     1\n",
       "247     2\n",
       "1438    2\n",
       "433     1\n",
       "227     2\n",
       "Name: category, Length: 108, dtype: int64"
      ]
     },
     "execution_count": 100,
     "metadata": {},
     "output_type": "execute_result"
    }
   ],
   "source": [
    "accuracy=accuracy_score(y_test,y_pred)\n",
    "precision =precision_score(y_test, y_pred,average='micro')\n",
    "recall =  recall_score(y_test, y_pred,average='micro')\n",
    "f1 = f1_score(y_test,y_pred,average='micro')\n",
    "print('Matriz de confusión para detectar casas con valor barato\\n',cm)\n",
    "print('Accuracy: ',accuracy)\n",
    "y_test"
   ]
  },
  {
   "cell_type": "markdown",
   "metadata": {},
   "source": [
    "# Resultados de SVM con un Kernel sigmoid\n",
    "Tuvo muy mal % de acierto podemos ver que tuvo un 43.51 de acierto"
   ]
  },
  {
   "cell_type": "code",
   "execution_count": 101,
   "metadata": {},
   "outputs": [
    {
     "data": {
      "image/png": "[encoded data removed]",
      "text/plain": [
       "<Figure size 1080x648 with 2 Axes>"
      ]
     },
     "metadata": {},
     "output_type": "display_data"
    },
    {
     "data": {
      "image/png": "[encoded data removed]",
      "text/plain": [
       "<Figure size 1080x648 with 2 Axes>"
      ]
     },
     "metadata": {},
     "output_type": "display_data"
    }
   ],
   "source": [
    "titles_options = [(\"Confusion matrix, without normalization\", None),\n",
    "                  (\"Normalized confusion matrix\", 'true')]\n",
    "for title, normalize in titles_options:\n",
    "    disp = plot_confusion_matrix(svclassifierSigmoid, X_test, y_test,\n",
    "                                 display_labels=[\"Caros\", \"Barata\", \"Medio\"],\n",
    "                                 cmap=plt.cm.Blues,\n",
    "                                 normalize=normalize)\n",
    "    disp.ax_.set_title(title)\n"
   ]
  },
  {
   "cell_type": "markdown",
   "metadata": {},
   "source": [
    "# Interpretacion de las matrices de confusion\n",
    "A diferencia de las otras dos aca donde mas exito tuvo fue en las casas caras con un 75% de acierto y confundiendose de nuevo con las medias. Probablemete se deba de mejorar la vairable categorica en cuanto a su criterio.\n",
    "Vimos que lo peores resultados fueron las bartas practicamente solo acertando la mitad un poquito mas pero tuvo un acierto del 58%. Y el peor escenario se lo llevo las medias con un 29% de acierto teniendo mas que todo creyendo que eran baratas como un falso positivo"
   ]
  },
  {
   "cell_type": "markdown",
   "metadata": {},
   "source": [
    "# Resumen\n",
    "Lo primero a realizarse furon las transformaciones necesarias para que nuestro modelo funcionara y fuera preciso, para esto se eliminaron las filas con valores nulos y cualquier variable que no fuese cuantitativa, seguido se realizo el pre-procesamiento de datos, donde se seteo nuestra variable categorica para SalePrice. Con el dataset ya listo, se procedió a crear nuestros tres modelos de SVM. El primer modelo se corrió con kernel linear, el segundo con kernel polinomial y el tercero con kernel sigmoidal."
   ]
  },
  {
   "cell_type": "markdown",
   "metadata": {},
   "source": [
    "# Cual se tardo mas?\n",
    "De nuestros 3 modelos el que más tiempo se tomó y por mucho fue el SVM con kernel lineal manejando un tiempo de entrenamiento de 25.58 segundos. Aún así uso un tiempo muy similar para la predicción comparado con los otros dos modelos.\n",
    "\n",
    "# ¿Cuál se equivocó más?\n",
    "El modelo SVM con kernel sigmoidal fue el que obtuvo la precisión más baja con una puntuación del 43.51% quedando casi un 21% de precisión por debajo del modelo con kernel polinomial.\n",
    "\n",
    "# ¿Cuál se equivocó menos? y ¿por qué?\n",
    "Pese a tener el tiempo de entrenamiento más tardado con creces, el modelo SVM con kernel lineal fue el más preciso alcanzando una precisión del 91.66% con un excedente en precisión de 21.86% por encima del modelo polinomial (segundo más preciso), se cree que la precisión viene de un mayor tiempo de entrenamiento\n"
   ]
  },
  {
   "cell_type": "code",
   "execution_count": null,
   "metadata": {},
   "outputs": [],
   "source": []
  }
 ],
 "metadata": {
  "kernelspec": {
   "display_name": "Python 3",
   "language": "python",
   "name": "python3"
  },
  "language_info": {
   "codemirror_mode": {
    "name": "ipython",
    "version": 3
   },
   "file_extension": ".py",
   "mimetype": "text/x-python",
   "name": "python",
   "nbconvert_exporter": "python",
   "pygments_lexer": "ipython3",
   "version": "3.8.5"
  }
 },
 "nbformat": 4,
 "nbformat_minor": 2
}
